{
 "cells": [
  {
   "cell_type": "markdown",
   "metadata": {},
   "source": [
    "Questions 1:\n",
    "Create an empty list. Accept 10 numbers from the user and append to it the list if it is an even number.\n"
   ]
  },
  {
   "cell_type": "code",
   "execution_count": 2,
   "metadata": {},
   "outputs": [
    {
     "name": "stdout",
     "output_type": "stream",
     "text": [
      "ENTER THE NUMBER: 45\n",
      "ENTER THE NUMBER: 147\n",
      "ENTER THE NUMBER: 45\n",
      "ENTER THE NUMBER: 12\n",
      "ENTER THE NUMBER: 74\n",
      "ENTER THE NUMBER: 96\n",
      "ENTER THE NUMBER: 78\n",
      "ENTER THE NUMBER: 58\n",
      "ENTER THE NUMBER: 77\n",
      "ENTER THE NUMBER: 33\n",
      "\n",
      " THE EVEN LIST :  [12, 74, 96, 78, 58]\n"
     ]
    }
   ],
   "source": [
    "user_no = []\n",
    "for x in range(0,10):\n",
    "    x= int(input(\"ENTER THE NUMBER: \"))\n",
    "    user_no.append(x)\n",
    "\n",
    "even_no= []\n",
    "for i in user_no:\n",
    "    if i%2 == 0:\n",
    "        even_no.append(i)\n",
    "print(\"\\n THE EVEN LIST : \",even_no)"
   ]
  },
  {
   "cell_type": "markdown",
   "metadata": {},
   "source": [
    "Questions 2:\n",
    "Create a notebook on LIST COMPREHENSION. This exercise is to put you in a Self learning mode"
   ]
  },
  {
   "cell_type": "code",
   "execution_count": 3,
   "metadata": {},
   "outputs": [
    {
     "name": "stdout",
     "output_type": "stream",
     "text": [
      "[2, 4, 6, 8]\n"
     ]
    }
   ],
   "source": [
    "lst = [1, 2, 3, 4, 5, 6, 7, 8]\n",
    "even_lst = [i for i in lst if i%2==0 ]\n",
    "\n",
    "print(even_lst)"
   ]
  },
  {
   "cell_type": "markdown",
   "metadata": {},
   "source": [
    "Questions 3:\n",
    "You have seen in the videos how powerful dictionary data structure is.\n",
    "In this assignment, given a number n, you have to write a program that generates a dictionary d which\n",
    "contains (i, i*i), where i is from 1 to n (both included).\n",
    "Then you have to just print this dictionary d."
   ]
  },
  {
   "cell_type": "code",
   "execution_count": 5,
   "metadata": {},
   "outputs": [
    {
     "name": "stdout",
     "output_type": "stream",
     "text": [
      "4\n",
      "{1: 1, 2: 4, 3: 9, 4: 16}\n"
     ]
    }
   ],
   "source": [
    "d = {}\n",
    "n = int(input())\n",
    "for i in range(1,n+1):\n",
    "  d[i] = i*i\n",
    "\n",
    "print(d)"
   ]
  },
  {
   "cell_type": "markdown",
   "metadata": {},
   "source": [
    "Questions 4:\n",
    "Write a program to compute the distance between the current position after\n",
    "a sequence of movement and original point. If the distance is a float, then\n",
    "just print the nearest integer (use round() function for that and then convert\n",
    "it into an integer)"
   ]
  },
  {
   "cell_type": "code",
   "execution_count": 8,
   "metadata": {},
   "outputs": [
    {
     "name": "stdout",
     "output_type": "stream",
     "text": [
      "4\n",
      "UP 5\n",
      "DOWN 3\n",
      "LEFT 3\n",
      "RIGHT 2\n",
      "2\n"
     ]
    }
   ],
   "source": [
    "#  creating a origin position\n",
    "pos = {\"x\":0,\"y\":0}\n",
    "\n",
    "# getting movement from user\n",
    "n = int(input())\n",
    "\n",
    "# for loop\n",
    "for i in range (n):\n",
    "    move =  input().split(\" \")      # ACCEPT MOVEMENT COMMAND AND STORE AS A LIST\n",
    "    \n",
    "    if move[0].lower() == \"up\":     # EXTRACT DIRECTION AND COMPARE\n",
    "        pos[\"y\"] += int(move[1])    # INCREMENT/DECREMENT APPROPRIATE CO-ORDINATES\n",
    "    \n",
    "    elif move[0].lower() == \"down\":\n",
    "        pos[\"y\"] -= int(move[1])\n",
    "    \n",
    "    elif move[0].lower() == \"left\":\n",
    "        pos[\"x\"] -= int(move[1])\n",
    "    \n",
    "    elif move[0].lower() == \"right\":\n",
    "        pos[\"x\"] += int(move[1])\n",
    "\n",
    "#  printing the result\n",
    "\n",
    "print(int(round((pos[\"x\"]**2 + pos[\"y\"]**2)**0.5)))   # DISTANCE FROM ORIGIN"
   ]
  },
  {
   "cell_type": "code",
   "execution_count": null,
   "metadata": {},
   "outputs": [],
   "source": []
  }
 ],
 "metadata": {
  "kernelspec": {
   "display_name": "Python 3",
   "language": "python",
   "name": "python3"
  },
  "language_info": {
   "codemirror_mode": {
    "name": "ipython",
    "version": 3
   },
   "file_extension": ".py",
   "mimetype": "text/x-python",
   "name": "python",
   "nbconvert_exporter": "python",
   "pygments_lexer": "ipython3",
   "version": "3.8.3"
  }
 },
 "nbformat": 4,
 "nbformat_minor": 4
}
